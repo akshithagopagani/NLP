{
  "cells": [
    {
      "cell_type": "code",
      "execution_count": null,
      "metadata": {
        "id": "P4iPi-Sv6KCq"
      },
      "outputs": [],
      "source": [
        "import numpy as np\n",
        "import pandas as pd\n",
        "import seaborn as sns\n",
        "import matplotlib.pyplot as plt\n",
        "from keras.models import Sequential\n",
        "from keras.layers import Dense, LSTM, Embedding\n",
        "from keras.preprocessing.text import Tokenizer\n",
        "from keras_preprocessing.sequence import  pad_sequences\n",
        "from keras.utils.np_utils import to_categorical\n",
        "from tensorflow.keras.layers import  Dropout,Activation"
      ]
    },
    {
      "cell_type": "markdown",
      "metadata": {
        "id": "HiLFSgwXYbvr"
      },
      "source": []
    },
    {
      "cell_type": "code",
      "execution_count": null,
      "metadata": {
        "id": "nH4G27Pk6b7E"
      },
      "outputs": [],
      "source": [
        "from google.colab import drive\n",
        "drive.mount('/content/drive')"
      ]
    },
    {
      "cell_type": "code",
      "execution_count": null,
      "metadata": {
        "colab": {
          "background_save": true
        },
        "id": "EAcpyGu-62c0",
        "outputId": "00720dd1-c63b-4e46-d5bd-4659d00fd094"
      },
      "outputs": [
        {
          "name": "stdout",
          "output_type": "stream",
          "text": [
            "Looking in indexes: https://pypi.org/simple, https://us-python.pkg.dev/colab-wheels/public/simple/\n",
            "Collecting emoji==1.7\n",
            "  Downloading emoji-1.7.0.tar.gz (175 kB)\n",
            "\u001b[K     |████████████████████████████████| 175 kB 4.1 MB/s \n",
            "\u001b[?25hBuilding wheels for collected packages: emoji\n",
            "  Building wheel for emoji (setup.py) ... \u001b[?25l\u001b[?25hdone\n",
            "  Created wheel for emoji: filename=emoji-1.7.0-py3-none-any.whl size=171047 sha256=f143e2ce43b2cec8628d299acadec8ba3c56e1d6df3f27bfffb4e73462b3be03\n",
            "  Stored in directory: /root/.cache/pip/wheels/8a/4e/b6/57b01db010d17ef6ea9b40300af725ef3e210cb1acfb7ac8b6\n",
            "Successfully built emoji\n",
            "Installing collected packages: emoji\n",
            "Successfully installed emoji-1.7.0\n"
          ]
        }
      ],
      "source": [
        "!pip install emoji==1.7\n",
        "import emoji"
      ]
    },
    {
      "cell_type": "code",
      "execution_count": null,
      "metadata": {
        "colab": {
          "background_save": true
        },
        "id": "regi9Hpj6lKz",
        "outputId": "5b3bcd5f-273d-49ed-aded-0c136aadf912"
      },
      "outputs": [
        {
          "data": {
            "text/html": [
              "\n",
              "  <div id=\"df-db366ffa-44fe-4f98-a48d-f96312bbb649\">\n",
              "    <div class=\"colab-df-container\">\n",
              "      <div>\n",
              "<style scoped>\n",
              "    .dataframe tbody tr th:only-of-type {\n",
              "        vertical-align: middle;\n",
              "    }\n",
              "\n",
              "    .dataframe tbody tr th {\n",
              "        vertical-align: top;\n",
              "    }\n",
              "\n",
              "    .dataframe thead th {\n",
              "        text-align: right;\n",
              "    }\n",
              "</style>\n",
              "<table border=\"1\" class=\"dataframe\">\n",
              "  <thead>\n",
              "    <tr style=\"text-align: right;\">\n",
              "      <th></th>\n",
              "      <th>0</th>\n",
              "      <th>1</th>\n",
              "    </tr>\n",
              "  </thead>\n",
              "  <tbody>\n",
              "    <tr>\n",
              "      <th>0</th>\n",
              "      <td>French macaroon is so tasty</td>\n",
              "      <td>4</td>\n",
              "    </tr>\n",
              "    <tr>\n",
              "      <th>1</th>\n",
              "      <td>work is horrible</td>\n",
              "      <td>3</td>\n",
              "    </tr>\n",
              "    <tr>\n",
              "      <th>2</th>\n",
              "      <td>I am upset</td>\n",
              "      <td>3</td>\n",
              "    </tr>\n",
              "    <tr>\n",
              "      <th>3</th>\n",
              "      <td>throw the ball</td>\n",
              "      <td>1</td>\n",
              "    </tr>\n",
              "    <tr>\n",
              "      <th>4</th>\n",
              "      <td>Good joke</td>\n",
              "      <td>2</td>\n",
              "    </tr>\n",
              "  </tbody>\n",
              "</table>\n",
              "</div>\n",
              "      <button class=\"colab-df-convert\" onclick=\"convertToInteractive('df-db366ffa-44fe-4f98-a48d-f96312bbb649')\"\n",
              "              title=\"Convert this dataframe to an interactive table.\"\n",
              "              style=\"display:none;\">\n",
              "        \n",
              "  <svg xmlns=\"http://www.w3.org/2000/svg\" height=\"24px\"viewBox=\"0 0 24 24\"\n",
              "       width=\"24px\">\n",
              "    <path d=\"M0 0h24v24H0V0z\" fill=\"none\"/>\n",
              "    <path d=\"M18.56 5.44l.94 2.06.94-2.06 2.06-.94-2.06-.94-.94-2.06-.94 2.06-2.06.94zm-11 1L8.5 8.5l.94-2.06 2.06-.94-2.06-.94L8.5 2.5l-.94 2.06-2.06.94zm10 10l.94 2.06.94-2.06 2.06-.94-2.06-.94-.94-2.06-.94 2.06-2.06.94z\"/><path d=\"M17.41 7.96l-1.37-1.37c-.4-.4-.92-.59-1.43-.59-.52 0-1.04.2-1.43.59L10.3 9.45l-7.72 7.72c-.78.78-.78 2.05 0 2.83L4 21.41c.39.39.9.59 1.41.59.51 0 1.02-.2 1.41-.59l7.78-7.78 2.81-2.81c.8-.78.8-2.07 0-2.86zM5.41 20L4 18.59l7.72-7.72 1.47 1.35L5.41 20z\"/>\n",
              "  </svg>\n",
              "      </button>\n",
              "      \n",
              "  <style>\n",
              "    .colab-df-container {\n",
              "      display:flex;\n",
              "      flex-wrap:wrap;\n",
              "      gap: 12px;\n",
              "    }\n",
              "\n",
              "    .colab-df-convert {\n",
              "      background-color: #E8F0FE;\n",
              "      border: none;\n",
              "      border-radius: 50%;\n",
              "      cursor: pointer;\n",
              "      display: none;\n",
              "      fill: #1967D2;\n",
              "      height: 32px;\n",
              "      padding: 0 0 0 0;\n",
              "      width: 32px;\n",
              "    }\n",
              "\n",
              "    .colab-df-convert:hover {\n",
              "      background-color: #E2EBFA;\n",
              "      box-shadow: 0px 1px 2px rgba(60, 64, 67, 0.3), 0px 1px 3px 1px rgba(60, 64, 67, 0.15);\n",
              "      fill: #174EA6;\n",
              "    }\n",
              "\n",
              "    [theme=dark] .colab-df-convert {\n",
              "      background-color: #3B4455;\n",
              "      fill: #D2E3FC;\n",
              "    }\n",
              "\n",
              "    [theme=dark] .colab-df-convert:hover {\n",
              "      background-color: #434B5C;\n",
              "      box-shadow: 0px 1px 3px 1px rgba(0, 0, 0, 0.15);\n",
              "      filter: drop-shadow(0px 1px 2px rgba(0, 0, 0, 0.3));\n",
              "      fill: #FFFFFF;\n",
              "    }\n",
              "  </style>\n",
              "\n",
              "      <script>\n",
              "        const buttonEl =\n",
              "          document.querySelector('#df-db366ffa-44fe-4f98-a48d-f96312bbb649 button.colab-df-convert');\n",
              "        buttonEl.style.display =\n",
              "          google.colab.kernel.accessAllowed ? 'block' : 'none';\n",
              "\n",
              "        async function convertToInteractive(key) {\n",
              "          const element = document.querySelector('#df-db366ffa-44fe-4f98-a48d-f96312bbb649');\n",
              "          const dataTable =\n",
              "            await google.colab.kernel.invokeFunction('convertToInteractive',\n",
              "                                                     [key], {});\n",
              "          if (!dataTable) return;\n",
              "\n",
              "          const docLinkHtml = 'Like what you see? Visit the ' +\n",
              "            '<a target=\"_blank\" href=https://colab.research.google.com/notebooks/data_table.ipynb>data table notebook</a>'\n",
              "            + ' to learn more about interactive tables.';\n",
              "          element.innerHTML = '';\n",
              "          dataTable['output_type'] = 'display_data';\n",
              "          await google.colab.output.renderOutput(dataTable, element);\n",
              "          const docLink = document.createElement('div');\n",
              "          docLink.innerHTML = docLinkHtml;\n",
              "          element.appendChild(docLink);\n",
              "        }\n",
              "      </script>\n",
              "    </div>\n",
              "  </div>\n",
              "  "
            ],
            "text/plain": [
              "                             0  1\n",
              "0  French macaroon is so tasty  4\n",
              "1             work is horrible  3\n",
              "2                   I am upset  3\n",
              "3               throw the ball  1\n",
              "4                    Good joke  2"
            ]
          },
          "execution_count": 4,
          "metadata": {},
          "output_type": "execute_result"
        }
      ],
      "source": [
        "data = pd.read_csv('/content/drive/MyDrive/emoji/emoji_data.csv', header=None)\n",
        "data.head()\n"
      ]
    },
    {
      "cell_type": "code",
      "execution_count": null,
      "metadata": {
        "colab": {
          "background_save": true
        },
        "id": "IyJmEXGg7DR6"
      },
      "outputs": [],
      "source": [
        "emoji_dict = {\n",
        "0: \":red_heart:\",\n",
        "    1: \":baseball:\",\n",
        "    2: \":grinning_face_with_big_eyes:\",\n",
        "    3: \":disappointed_face:\",\n",
        "    4: \":fork_and_knife_with_plate:\"\n",
        "}\n",
        "\n",
        "def label_to_emoji(label):\n",
        "    return emoji.emojize(emoji_dict[label])"
      ]
    },
    {
      "cell_type": "code",
      "execution_count": null,
      "metadata": {
        "colab": {
          "background_save": true
        },
        "id": "BpUEfJ8_dAw8"
      },
      "outputs": [],
      "source": [
        "import string\n",
        "import re"
      ]
    },
    {
      "cell_type": "markdown",
      "metadata": {
        "id": "WAJq044vIbKd"
      },
      "source": [
        "**PREPROCESSING**"
      ]
    },
    {
      "cell_type": "code",
      "execution_count": null,
      "metadata": {
        "colab": {
          "background_save": true
        },
        "id": "D2DxL8zNdA-s"
      },
      "outputs": [],
      "source": [
        "def tweet_clean(tweet):\n",
        "    tweet = str(tweet).lower()\n",
        "    rm_mention = re.sub(r'@[A-Za-z0-9]+', '', tweet)    \n",
        "    rm_rt = re.sub(r'RT[/s]+', '', rm_mention)                   # remove @mentions\n",
        "    rm_links = re.sub(r'http\\S+', '', rm_rt)                               # remove hyperlinks\n",
        "    rm_links = re.sub(r'https?:\\/\\/\\S+','', rm_links)\n",
        "    rm_nums = re.sub('[0-9]+', '', rm_links)                        # remove numbers\n",
        "    rm_punc = [char for char in rm_nums if char not in string.punctuation] # remove punctuations\n",
        "    rm_punc = ''.join(rm_punc)\n",
        "    cleaned = rm_punc\n",
        "    \n",
        "    return cleaned"
      ]
    },
    {
      "cell_type": "code",
      "execution_count": null,
      "metadata": {
        "colab": {
          "background_save": true
        },
        "id": "vToDx0NmdJ_H",
        "outputId": "dced4099-2659-4508-bbfa-8475e88fc7b0"
      },
      "outputs": [
        {
          "data": {
            "text/html": [
              "\n",
              "  <div id=\"df-b68527b2-9ece-4003-9a8f-fe0ed79452be\">\n",
              "    <div class=\"colab-df-container\">\n",
              "      <div>\n",
              "<style scoped>\n",
              "    .dataframe tbody tr th:only-of-type {\n",
              "        vertical-align: middle;\n",
              "    }\n",
              "\n",
              "    .dataframe tbody tr th {\n",
              "        vertical-align: top;\n",
              "    }\n",
              "\n",
              "    .dataframe thead th {\n",
              "        text-align: right;\n",
              "    }\n",
              "</style>\n",
              "<table border=\"1\" class=\"dataframe\">\n",
              "  <thead>\n",
              "    <tr style=\"text-align: right;\">\n",
              "      <th></th>\n",
              "      <th>0</th>\n",
              "      <th>1</th>\n",
              "    </tr>\n",
              "  </thead>\n",
              "  <tbody>\n",
              "    <tr>\n",
              "      <th>0</th>\n",
              "      <td>french macaroon is so tasty</td>\n",
              "      <td>4</td>\n",
              "    </tr>\n",
              "    <tr>\n",
              "      <th>1</th>\n",
              "      <td>work is horrible</td>\n",
              "      <td>3</td>\n",
              "    </tr>\n",
              "    <tr>\n",
              "      <th>2</th>\n",
              "      <td>i am upset</td>\n",
              "      <td>3</td>\n",
              "    </tr>\n",
              "    <tr>\n",
              "      <th>3</th>\n",
              "      <td>throw the ball</td>\n",
              "      <td>1</td>\n",
              "    </tr>\n",
              "    <tr>\n",
              "      <th>4</th>\n",
              "      <td>good joke</td>\n",
              "      <td>2</td>\n",
              "    </tr>\n",
              "  </tbody>\n",
              "</table>\n",
              "</div>\n",
              "      <button class=\"colab-df-convert\" onclick=\"convertToInteractive('df-b68527b2-9ece-4003-9a8f-fe0ed79452be')\"\n",
              "              title=\"Convert this dataframe to an interactive table.\"\n",
              "              style=\"display:none;\">\n",
              "        \n",
              "  <svg xmlns=\"http://www.w3.org/2000/svg\" height=\"24px\"viewBox=\"0 0 24 24\"\n",
              "       width=\"24px\">\n",
              "    <path d=\"M0 0h24v24H0V0z\" fill=\"none\"/>\n",
              "    <path d=\"M18.56 5.44l.94 2.06.94-2.06 2.06-.94-2.06-.94-.94-2.06-.94 2.06-2.06.94zm-11 1L8.5 8.5l.94-2.06 2.06-.94-2.06-.94L8.5 2.5l-.94 2.06-2.06.94zm10 10l.94 2.06.94-2.06 2.06-.94-2.06-.94-.94-2.06-.94 2.06-2.06.94z\"/><path d=\"M17.41 7.96l-1.37-1.37c-.4-.4-.92-.59-1.43-.59-.52 0-1.04.2-1.43.59L10.3 9.45l-7.72 7.72c-.78.78-.78 2.05 0 2.83L4 21.41c.39.39.9.59 1.41.59.51 0 1.02-.2 1.41-.59l7.78-7.78 2.81-2.81c.8-.78.8-2.07 0-2.86zM5.41 20L4 18.59l7.72-7.72 1.47 1.35L5.41 20z\"/>\n",
              "  </svg>\n",
              "      </button>\n",
              "      \n",
              "  <style>\n",
              "    .colab-df-container {\n",
              "      display:flex;\n",
              "      flex-wrap:wrap;\n",
              "      gap: 12px;\n",
              "    }\n",
              "\n",
              "    .colab-df-convert {\n",
              "      background-color: #E8F0FE;\n",
              "      border: none;\n",
              "      border-radius: 50%;\n",
              "      cursor: pointer;\n",
              "      display: none;\n",
              "      fill: #1967D2;\n",
              "      height: 32px;\n",
              "      padding: 0 0 0 0;\n",
              "      width: 32px;\n",
              "    }\n",
              "\n",
              "    .colab-df-convert:hover {\n",
              "      background-color: #E2EBFA;\n",
              "      box-shadow: 0px 1px 2px rgba(60, 64, 67, 0.3), 0px 1px 3px 1px rgba(60, 64, 67, 0.15);\n",
              "      fill: #174EA6;\n",
              "    }\n",
              "\n",
              "    [theme=dark] .colab-df-convert {\n",
              "      background-color: #3B4455;\n",
              "      fill: #D2E3FC;\n",
              "    }\n",
              "\n",
              "    [theme=dark] .colab-df-convert:hover {\n",
              "      background-color: #434B5C;\n",
              "      box-shadow: 0px 1px 3px 1px rgba(0, 0, 0, 0.15);\n",
              "      filter: drop-shadow(0px 1px 2px rgba(0, 0, 0, 0.3));\n",
              "      fill: #FFFFFF;\n",
              "    }\n",
              "  </style>\n",
              "\n",
              "      <script>\n",
              "        const buttonEl =\n",
              "          document.querySelector('#df-b68527b2-9ece-4003-9a8f-fe0ed79452be button.colab-df-convert');\n",
              "        buttonEl.style.display =\n",
              "          google.colab.kernel.accessAllowed ? 'block' : 'none';\n",
              "\n",
              "        async function convertToInteractive(key) {\n",
              "          const element = document.querySelector('#df-b68527b2-9ece-4003-9a8f-fe0ed79452be');\n",
              "          const dataTable =\n",
              "            await google.colab.kernel.invokeFunction('convertToInteractive',\n",
              "                                                     [key], {});\n",
              "          if (!dataTable) return;\n",
              "\n",
              "          const docLinkHtml = 'Like what you see? Visit the ' +\n",
              "            '<a target=\"_blank\" href=https://colab.research.google.com/notebooks/data_table.ipynb>data table notebook</a>'\n",
              "            + ' to learn more about interactive tables.';\n",
              "          element.innerHTML = '';\n",
              "          dataTable['output_type'] = 'display_data';\n",
              "          await google.colab.output.renderOutput(dataTable, element);\n",
              "          const docLink = document.createElement('div');\n",
              "          docLink.innerHTML = docLinkHtml;\n",
              "          element.appendChild(docLink);\n",
              "        }\n",
              "      </script>\n",
              "    </div>\n",
              "  </div>\n",
              "  "
            ],
            "text/plain": [
              "                             0  1\n",
              "0  french macaroon is so tasty  4\n",
              "1             work is horrible  3\n",
              "2                   i am upset  3\n",
              "3               throw the ball  1\n",
              "4                    good joke  2"
            ]
          },
          "execution_count": 8,
          "metadata": {},
          "output_type": "execute_result"
        }
      ],
      "source": [
        "data[0]= data[0].apply(tweet_clean)\n",
        "data.head()"
      ]
    },
    {
      "cell_type": "code",
      "execution_count": null,
      "metadata": {
        "colab": {
          "background_save": true
        },
        "id": "Ig6DAGe4dpe-",
        "outputId": "c8c2f65f-8f4f-46f8-f139-613c8587b551"
      },
      "outputs": [
        {
          "name": "stderr",
          "output_type": "stream",
          "text": [
            "/usr/local/lib/python3.7/dist-packages/seaborn/_decorators.py:43: FutureWarning: Pass the following variable as a keyword arg: x. From version 0.12, the only valid positional argument will be `data`, and passing other arguments without an explicit keyword will result in an error or misinterpretation.\n",
            "  FutureWarning\n"
          ]
        },
        {
          "data": {
            "text/plain": [
              "<matplotlib.axes._subplots.AxesSubplot at 0x7f4186f79650>"
            ]
          },
          "execution_count": 9,
          "metadata": {},
          "output_type": "execute_result"
        },
        {
          "data": {
            "image/png": "[encoded data removed]",
            "text/plain": [
              "<Figure size 432x288 with 1 Axes>"
            ]
          },
          "metadata": {},
          "output_type": "display_data"
        }
      ],
      "source": [
        "sns.countplot(data[1]) "
      ]
    },
    {
      "cell_type": "code",
      "execution_count": null,
      "metadata": {
        "colab": {
          "background_save": true
        },
        "id": "8DLZGwCN7DTm"
      },
      "outputs": [],
      "source": [
        "X= data[0].values\n",
        "Y= data[1].values"
      ]
    },
    {
      "cell_type": "code",
      "execution_count": null,
      "metadata": {
        "colab": {
          "background_save": true
        },
        "id": "j4xOMKvS7WUQ"
      },
      "outputs": [],
      "source": [
        "file = open('/content/drive/MyDrive/glove.6B.100d.txt', 'r', encoding = 'utf8')\n",
        "content = file.readlines()\n",
        "file.close()\n"
      ]
    },
    {
      "cell_type": "code",
      "execution_count": null,
      "metadata": {
        "colab": {
          "background_save": true
        },
        "id": "9M8PXCsQ7Wfs"
      },
      "outputs": [],
      "source": [
        "embeddings = {}\n",
        "\n",
        "for line in content:\n",
        "\n",
        "    line = line.split()\n",
        "    embeddings[line[0]] = np.array(line[1:], dtype = float)"
      ]
    },
    {
      "cell_type": "code",
      "execution_count": null,
      "metadata": {
        "colab": {
          "background_save": true
        },
        "id": "sF2av7J87DXb"
      },
      "outputs": [],
      "source": [
        "tokenizer = Tokenizer()\n",
        "tokenizer.fit_on_texts(X)\n",
        "word2index = tokenizer.word_index"
      ]
    },
    {
      "cell_type": "code",
      "execution_count": null,
      "metadata": {
        "colab": {
          "background_save": true
        },
        "id": "yBzvwAym8pH6"
      },
      "outputs": [],
      "source": [
        "Xtokens = tokenizer.texts_to_sequences(X)\n"
      ]
    },
    {
      "cell_type": "code",
      "execution_count": null,
      "metadata": {
        "colab": {
          "background_save": true
        },
        "id": "FC05Iuc58pPc",
        "outputId": "12f4a0f5-3c09-46ea-d053-fe15ddf021bf"
      },
      "outputs": [
        {
          "name": "stdout",
          "output_type": "stream",
          "text": [
            "10\n"
          ]
        }
      ],
      "source": [
        "def get_maxlen(train_data):\n",
        "    maxlen = 0\n",
        "    for sent in train_data:\n",
        "        maxlen = max(maxlen, len(sent))\n",
        "    return maxlen\n",
        "\n",
        "maxlen = get_maxlen(Xtokens)\n",
        "print(maxlen)"
      ]
    },
    {
      "cell_type": "code",
      "execution_count": null,
      "metadata": {
        "colab": {
          "background_save": true
        },
        "id": "vGuh_Tng8pTr"
      },
      "outputs": [],
      "source": [
        "Xtrain = pad_sequences(Xtokens, maxlen = maxlen,  padding = 'post', truncating = 'post')"
      ]
    },
    {
      "cell_type": "code",
      "execution_count": null,
      "metadata": {
        "colab": {
          "background_save": true
        },
        "id": "ZW3l-hdt9sdO"
      },
      "outputs": [],
      "source": [
        "Ytrain = to_categorical(Y)\n"
      ]
    },
    {
      "cell_type": "code",
      "execution_count": null,
      "metadata": {
        "colab": {
          "background_save": true
        },
        "id": "sD5RtujD_RfB"
      },
      "outputs": [],
      "source": [
        "embed_size = 100\n",
        "embedding_matrix = np.zeros((len(word2index)+1, embed_size))\n",
        "\n",
        "for word, i in word2index.items():\n",
        "    embed_vector = embeddings[word]\n",
        "    embedding_matrix[i] = embed_vector"
      ]
    },
    {
      "cell_type": "code",
      "execution_count": null,
      "metadata": {
        "colab": {
          "background_save": true
        },
        "id": "q4uOL11auRmV"
      },
      "outputs": [],
      "source": [
        "model = Sequential([\n",
        "    Embedding(input_dim = len(word2index) + 1,\n",
        "              output_dim = embed_size,\n",
        "              input_length = maxlen,\n",
        "              weights = [embedding_matrix],\n",
        "              trainable = False\n",
        "             ),\n",
        "    LSTM(units = 32, return_sequences = True),\n",
        "    Dropout(0.3),\n",
        "    LSTM(units = 16),\n",
        "    Dropout(0.2),\n",
        "    Dense(5, activation = 'softmax')\n",
        "\n",
        "    \n",
        "])\n",
        "\n",
        "model.compile(optimizer = 'adam', loss = 'categorical_crossentropy', metrics = ['accuracy'])\n",
        "\n"
      ]
    },
    {
      "cell_type": "code",
      "execution_count": null,
      "metadata": {
        "colab": {
          "background_save": true
        },
        "id": "JjpPz-iF9ssB",
        "outputId": "09772439-0ad2-427b-a95b-4cccc801f383"
      },
      "outputs": [
        {
          "name": "stdout",
          "output_type": "stream",
          "text": [
            "Epoch 1/50\n",
            "9/9 [==============================] - 6s 143ms/step - loss: 1.5857 - accuracy: 0.2155 - val_loss: 1.5724 - val_accuracy: 0.2188\n",
            "Epoch 2/50\n",
            "9/9 [==============================] - 0s 16ms/step - loss: 1.5319 - accuracy: 0.3852 - val_loss: 1.5468 - val_accuracy: 0.2500\n",
            "Epoch 3/50\n",
            "9/9 [==============================] - 0s 14ms/step - loss: 1.4719 - accuracy: 0.3852 - val_loss: 1.5058 - val_accuracy: 0.2812\n",
            "Epoch 4/50\n",
            "9/9 [==============================] - 0s 15ms/step - loss: 1.4021 - accuracy: 0.4134 - val_loss: 1.4411 - val_accuracy: 0.3125\n",
            "Epoch 5/50\n",
            "9/9 [==============================] - 0s 15ms/step - loss: 1.3240 - accuracy: 0.4452 - val_loss: 1.3509 - val_accuracy: 0.3438\n",
            "Epoch 6/50\n",
            "9/9 [==============================] - 0s 14ms/step - loss: 1.2583 - accuracy: 0.4346 - val_loss: 1.2946 - val_accuracy: 0.2500\n",
            "Epoch 7/50\n",
            "9/9 [==============================] - 0s 18ms/step - loss: 1.1721 - accuracy: 0.5053 - val_loss: 1.2216 - val_accuracy: 0.3750\n",
            "Epoch 8/50\n",
            "9/9 [==============================] - 0s 17ms/step - loss: 1.0988 - accuracy: 0.5336 - val_loss: 1.0846 - val_accuracy: 0.5312\n",
            "Epoch 9/50\n",
            "9/9 [==============================] - 0s 14ms/step - loss: 1.0080 - accuracy: 0.6184 - val_loss: 1.0091 - val_accuracy: 0.5312\n",
            "Epoch 10/50\n",
            "9/9 [==============================] - 0s 15ms/step - loss: 0.9553 - accuracy: 0.6325 - val_loss: 1.0032 - val_accuracy: 0.5625\n",
            "Epoch 11/50\n",
            "9/9 [==============================] - 0s 15ms/step - loss: 0.8394 - accuracy: 0.6820 - val_loss: 0.9811 - val_accuracy: 0.5625\n",
            "Epoch 12/50\n",
            "9/9 [==============================] - 0s 14ms/step - loss: 0.7845 - accuracy: 0.7314 - val_loss: 0.8166 - val_accuracy: 0.6562\n",
            "Epoch 13/50\n",
            "9/9 [==============================] - 0s 14ms/step - loss: 0.6925 - accuracy: 0.7668 - val_loss: 0.7540 - val_accuracy: 0.6875\n",
            "Epoch 14/50\n",
            "9/9 [==============================] - 0s 15ms/step - loss: 0.5908 - accuracy: 0.8304 - val_loss: 0.6607 - val_accuracy: 0.6875\n",
            "Epoch 15/50\n",
            "9/9 [==============================] - 0s 17ms/step - loss: 0.5946 - accuracy: 0.8375 - val_loss: 0.5977 - val_accuracy: 0.8125\n",
            "Epoch 16/50\n",
            "9/9 [==============================] - 0s 14ms/step - loss: 0.5046 - accuracy: 0.8481 - val_loss: 0.5759 - val_accuracy: 0.7500\n",
            "Epoch 17/50\n",
            "9/9 [==============================] - 0s 14ms/step - loss: 0.4363 - accuracy: 0.8622 - val_loss: 0.5893 - val_accuracy: 0.8125\n",
            "Epoch 18/50\n",
            "9/9 [==============================] - 0s 14ms/step - loss: 0.4354 - accuracy: 0.8975 - val_loss: 0.4557 - val_accuracy: 0.8750\n",
            "Epoch 19/50\n",
            "9/9 [==============================] - 0s 15ms/step - loss: 0.4022 - accuracy: 0.9187 - val_loss: 0.4623 - val_accuracy: 0.8750\n",
            "Epoch 20/50\n",
            "9/9 [==============================] - 0s 14ms/step - loss: 0.3424 - accuracy: 0.9187 - val_loss: 0.3802 - val_accuracy: 0.8750\n",
            "Epoch 21/50\n",
            "9/9 [==============================] - 0s 15ms/step - loss: 0.2967 - accuracy: 0.9329 - val_loss: 0.3858 - val_accuracy: 0.9062\n",
            "Epoch 22/50\n",
            "9/9 [==============================] - 0s 16ms/step - loss: 0.2467 - accuracy: 0.9753 - val_loss: 0.3618 - val_accuracy: 0.9062\n",
            "Epoch 23/50\n",
            "9/9 [==============================] - 0s 15ms/step - loss: 0.2552 - accuracy: 0.9505 - val_loss: 0.2799 - val_accuracy: 0.9375\n",
            "Epoch 24/50\n",
            "9/9 [==============================] - 0s 16ms/step - loss: 0.2721 - accuracy: 0.9329 - val_loss: 0.2176 - val_accuracy: 0.9688\n",
            "Epoch 25/50\n",
            "9/9 [==============================] - 0s 15ms/step - loss: 0.2631 - accuracy: 0.9470 - val_loss: 0.3194 - val_accuracy: 0.9375\n",
            "Epoch 26/50\n",
            "9/9 [==============================] - 0s 15ms/step - loss: 0.2471 - accuracy: 0.9576 - val_loss: 0.2202 - val_accuracy: 0.9375\n",
            "Epoch 27/50\n",
            "9/9 [==============================] - 0s 16ms/step - loss: 0.1913 - accuracy: 0.9682 - val_loss: 0.2115 - val_accuracy: 0.9688\n",
            "Epoch 28/50\n",
            "9/9 [==============================] - 0s 15ms/step - loss: 0.1593 - accuracy: 0.9823 - val_loss: 0.1505 - val_accuracy: 0.9688\n",
            "Epoch 29/50\n",
            "9/9 [==============================] - 0s 17ms/step - loss: 0.1579 - accuracy: 0.9894 - val_loss: 0.1490 - val_accuracy: 0.9688\n",
            "Epoch 30/50\n",
            "9/9 [==============================] - 0s 16ms/step - loss: 0.1323 - accuracy: 0.9894 - val_loss: 0.1288 - val_accuracy: 0.9688\n",
            "Epoch 31/50\n",
            "9/9 [==============================] - 0s 14ms/step - loss: 0.1239 - accuracy: 0.9894 - val_loss: 0.1214 - val_accuracy: 0.9688\n",
            "Epoch 32/50\n",
            "9/9 [==============================] - 0s 15ms/step - loss: 0.1110 - accuracy: 0.9929 - val_loss: 0.1276 - val_accuracy: 0.9688\n",
            "Epoch 33/50\n",
            "9/9 [==============================] - 0s 14ms/step - loss: 0.1012 - accuracy: 0.9929 - val_loss: 0.1404 - val_accuracy: 0.9688\n",
            "Epoch 34/50\n",
            "9/9 [==============================] - 0s 15ms/step - loss: 0.0824 - accuracy: 0.9965 - val_loss: 0.1034 - val_accuracy: 0.9688\n",
            "Epoch 35/50\n",
            "9/9 [==============================] - 0s 15ms/step - loss: 0.0939 - accuracy: 0.9929 - val_loss: 0.2206 - val_accuracy: 0.9375\n",
            "Epoch 36/50\n",
            "9/9 [==============================] - 0s 15ms/step - loss: 0.0988 - accuracy: 0.9859 - val_loss: 0.0947 - val_accuracy: 0.9688\n",
            "Epoch 37/50\n",
            "9/9 [==============================] - 0s 14ms/step - loss: 0.0862 - accuracy: 0.9929 - val_loss: 0.1450 - val_accuracy: 0.9688\n",
            "Epoch 38/50\n",
            "9/9 [==============================] - 0s 15ms/step - loss: 0.0875 - accuracy: 0.9894 - val_loss: 0.0882 - val_accuracy: 0.9688\n",
            "Epoch 39/50\n",
            "9/9 [==============================] - 0s 14ms/step - loss: 0.0829 - accuracy: 0.9929 - val_loss: 0.0735 - val_accuracy: 0.9688\n",
            "Epoch 40/50\n",
            "9/9 [==============================] - 0s 14ms/step - loss: 0.0745 - accuracy: 0.9965 - val_loss: 0.0775 - val_accuracy: 0.9688\n",
            "Epoch 41/50\n",
            "9/9 [==============================] - 0s 14ms/step - loss: 0.0726 - accuracy: 0.9965 - val_loss: 0.0765 - val_accuracy: 0.9688\n",
            "Epoch 42/50\n",
            "9/9 [==============================] - 0s 15ms/step - loss: 0.0705 - accuracy: 0.9965 - val_loss: 0.0526 - val_accuracy: 1.0000\n",
            "Epoch 43/50\n",
            "9/9 [==============================] - 0s 15ms/step - loss: 0.0640 - accuracy: 0.9965 - val_loss: 0.0469 - val_accuracy: 1.0000\n",
            "Epoch 44/50\n",
            "9/9 [==============================] - 0s 15ms/step - loss: 0.0862 - accuracy: 0.9894 - val_loss: 0.0635 - val_accuracy: 0.9688\n",
            "Epoch 45/50\n",
            "9/9 [==============================] - 0s 15ms/step - loss: 0.0735 - accuracy: 0.9929 - val_loss: 0.1483 - val_accuracy: 0.9688\n",
            "Epoch 46/50\n",
            "9/9 [==============================] - 0s 15ms/step - loss: 0.1152 - accuracy: 0.9753 - val_loss: 0.1722 - val_accuracy: 0.9688\n",
            "Epoch 47/50\n",
            "9/9 [==============================] - 0s 15ms/step - loss: 0.1668 - accuracy: 0.9647 - val_loss: 0.0505 - val_accuracy: 1.0000\n",
            "Epoch 48/50\n",
            "9/9 [==============================] - 0s 15ms/step - loss: 0.0956 - accuracy: 0.9859 - val_loss: 0.0353 - val_accuracy: 1.0000\n",
            "Epoch 49/50\n",
            "9/9 [==============================] - 0s 17ms/step - loss: 0.0609 - accuracy: 0.9965 - val_loss: 0.0363 - val_accuracy: 1.0000\n",
            "Epoch 50/50\n",
            "9/9 [==============================] - 0s 15ms/step - loss: 0.0756 - accuracy: 0.9929 - val_loss: 0.0462 - val_accuracy: 1.0000\n"
          ]
        }
      ],
      "source": [
        "history=model.fit(Xtrain, Ytrain,validation_split = 0.1, batch_size=32, epochs = 50)\n",
        "\n"
      ]
    },
    {
      "cell_type": "code",
      "execution_count": null,
      "metadata": {
        "colab": {
          "background_save": true
        },
        "id": "IcUjesF2R1Bd",
        "outputId": "66df73c5-fd4e-4152-f37a-8ee960008311"
      },
      "outputs": [
        {
          "data": {
            "image/png": "[encoded data removed]",
            "text/plain": [
              "<Figure size 576x432 with 1 Axes>"
            ]
          },
          "metadata": {},
          "output_type": "display_data"
        },
        {
          "data": {
            "image/png": "[encoded data removed]",
            "text/plain": [
              "<Figure size 576x432 with 1 Axes>"
            ]
          },
          "metadata": {},
          "output_type": "display_data"
        }
      ],
      "source": [
        "import matplotlib.pyplot as plt\n",
        "import seaborn as sns\n",
        "get_ipython().run_line_magic('matplotlib', 'inline')\n",
        "plt.figure(figsize=(8,6))\n",
        "plt.title(' Accuracy scores')\n",
        "plt.plot(history.history['accuracy'])\n",
        "plt.plot(history.history['val_accuracy'])\n",
        "plt.legend(['accuracy', 'val_accuracy'])\n",
        "plt.show()\n",
        "plt.figure(figsize=(8,6))\n",
        "plt.title(' Loss value')\n",
        "plt.plot(history.history['loss'])\n",
        "plt.plot(history.history['val_loss'])\n",
        "plt.legend(['loss', 'val_loss'])\n",
        "plt.show()"
      ]
    },
    {
      "cell_type": "code",
      "execution_count": null,
      "metadata": {
        "colab": {
          "background_save": true
        },
        "id": "78v1gTFFnIn9",
        "outputId": "e9a06a39-7800-44f9-85a3-1765e80075d6"
      },
      "outputs": [
        {
          "name": "stdout",
          "output_type": "stream",
          "text": [
            "10/10 [==============================] - 1s 4ms/step - loss: 0.0521 - accuracy: 0.9937\n"
          ]
        },
        {
          "data": {
            "text/plain": [
              "[0.052089691162109375, 0.9936507940292358]"
            ]
          },
          "execution_count": 22,
          "metadata": {},
          "output_type": "execute_result"
        }
      ],
      "source": [
        "model.evaluate(Xtrain,Ytrain)"
      ]
    },
    {
      "cell_type": "code",
      "execution_count": null,
      "metadata": {
        "colab": {
          "background_save": true
        },
        "id": "_nZkp0U6gEOf",
        "outputId": "98bece82-9c94-4bef-d2ca-5c957379a2f7"
      },
      "outputs": [
        {
          "data": {
            "text/html": [
              "\n",
              "  <div id=\"df-5cfd750c-882a-4fc2-939d-cd86201fe642\">\n",
              "    <div class=\"colab-df-container\">\n",
              "      <div>\n",
              "<style scoped>\n",
              "    .dataframe tbody tr th:only-of-type {\n",
              "        vertical-align: middle;\n",
              "    }\n",
              "\n",
              "    .dataframe tbody tr th {\n",
              "        vertical-align: top;\n",
              "    }\n",
              "\n",
              "    .dataframe thead th {\n",
              "        text-align: right;\n",
              "    }\n",
              "</style>\n",
              "<table border=\"1\" class=\"dataframe\">\n",
              "  <thead>\n",
              "    <tr style=\"text-align: right;\">\n",
              "      <th></th>\n",
              "      <th>0</th>\n",
              "      <th>1</th>\n",
              "    </tr>\n",
              "  </thead>\n",
              "  <tbody>\n",
              "    <tr>\n",
              "      <th>0</th>\n",
              "      <td>I want to eat\\t</td>\n",
              "      <td>4</td>\n",
              "    </tr>\n",
              "    <tr>\n",
              "      <th>1</th>\n",
              "      <td>he did not answer\\t</td>\n",
              "      <td>3</td>\n",
              "    </tr>\n",
              "    <tr>\n",
              "      <th>2</th>\n",
              "      <td>he got a raise\\t</td>\n",
              "      <td>2</td>\n",
              "    </tr>\n",
              "    <tr>\n",
              "      <th>3</th>\n",
              "      <td>she got me a present\\t</td>\n",
              "      <td>0</td>\n",
              "    </tr>\n",
              "    <tr>\n",
              "      <th>4</th>\n",
              "      <td>ha ha ha it was so funny\\t</td>\n",
              "      <td>2</td>\n",
              "    </tr>\n",
              "  </tbody>\n",
              "</table>\n",
              "</div>\n",
              "      <button class=\"colab-df-convert\" onclick=\"convertToInteractive('df-5cfd750c-882a-4fc2-939d-cd86201fe642')\"\n",
              "              title=\"Convert this dataframe to an interactive table.\"\n",
              "              style=\"display:none;\">\n",
              "        \n",
              "  <svg xmlns=\"http://www.w3.org/2000/svg\" height=\"24px\"viewBox=\"0 0 24 24\"\n",
              "       width=\"24px\">\n",
              "    <path d=\"M0 0h24v24H0V0z\" fill=\"none\"/>\n",
              "    <path d=\"M18.56 5.44l.94 2.06.94-2.06 2.06-.94-2.06-.94-.94-2.06-.94 2.06-2.06.94zm-11 1L8.5 8.5l.94-2.06 2.06-.94-2.06-.94L8.5 2.5l-.94 2.06-2.06.94zm10 10l.94 2.06.94-2.06 2.06-.94-2.06-.94-.94-2.06-.94 2.06-2.06.94z\"/><path d=\"M17.41 7.96l-1.37-1.37c-.4-.4-.92-.59-1.43-.59-.52 0-1.04.2-1.43.59L10.3 9.45l-7.72 7.72c-.78.78-.78 2.05 0 2.83L4 21.41c.39.39.9.59 1.41.59.51 0 1.02-.2 1.41-.59l7.78-7.78 2.81-2.81c.8-.78.8-2.07 0-2.86zM5.41 20L4 18.59l7.72-7.72 1.47 1.35L5.41 20z\"/>\n",
              "  </svg>\n",
              "      </button>\n",
              "      \n",
              "  <style>\n",
              "    .colab-df-container {\n",
              "      display:flex;\n",
              "      flex-wrap:wrap;\n",
              "      gap: 12px;\n",
              "    }\n",
              "\n",
              "    .colab-df-convert {\n",
              "      background-color: #E8F0FE;\n",
              "      border: none;\n",
              "      border-radius: 50%;\n",
              "      cursor: pointer;\n",
              "      display: none;\n",
              "      fill: #1967D2;\n",
              "      height: 32px;\n",
              "      padding: 0 0 0 0;\n",
              "      width: 32px;\n",
              "    }\n",
              "\n",
              "    .colab-df-convert:hover {\n",
              "      background-color: #E2EBFA;\n",
              "      box-shadow: 0px 1px 2px rgba(60, 64, 67, 0.3), 0px 1px 3px 1px rgba(60, 64, 67, 0.15);\n",
              "      fill: #174EA6;\n",
              "    }\n",
              "\n",
              "    [theme=dark] .colab-df-convert {\n",
              "      background-color: #3B4455;\n",
              "      fill: #D2E3FC;\n",
              "    }\n",
              "\n",
              "    [theme=dark] .colab-df-convert:hover {\n",
              "      background-color: #434B5C;\n",
              "      box-shadow: 0px 1px 3px 1px rgba(0, 0, 0, 0.15);\n",
              "      filter: drop-shadow(0px 1px 2px rgba(0, 0, 0, 0.3));\n",
              "      fill: #FFFFFF;\n",
              "    }\n",
              "  </style>\n",
              "\n",
              "      <script>\n",
              "        const buttonEl =\n",
              "          document.querySelector('#df-5cfd750c-882a-4fc2-939d-cd86201fe642 button.colab-df-convert');\n",
              "        buttonEl.style.display =\n",
              "          google.colab.kernel.accessAllowed ? 'block' : 'none';\n",
              "\n",
              "        async function convertToInteractive(key) {\n",
              "          const element = document.querySelector('#df-5cfd750c-882a-4fc2-939d-cd86201fe642');\n",
              "          const dataTable =\n",
              "            await google.colab.kernel.invokeFunction('convertToInteractive',\n",
              "                                                     [key], {});\n",
              "          if (!dataTable) return;\n",
              "\n",
              "          const docLinkHtml = 'Like what you see? Visit the ' +\n",
              "            '<a target=\"_blank\" href=https://colab.research.google.com/notebooks/data_table.ipynb>data table notebook</a>'\n",
              "            + ' to learn more about interactive tables.';\n",
              "          element.innerHTML = '';\n",
              "          dataTable['output_type'] = 'display_data';\n",
              "          await google.colab.output.renderOutput(dataTable, element);\n",
              "          const docLink = document.createElement('div');\n",
              "          docLink.innerHTML = docLinkHtml;\n",
              "          element.appendChild(docLink);\n",
              "        }\n",
              "      </script>\n",
              "    </div>\n",
              "  </div>\n",
              "  "
            ],
            "text/plain": [
              "                            0  1\n",
              "0             I want to eat\\t  4\n",
              "1         he did not answer\\t  3\n",
              "2            he got a raise\\t  2\n",
              "3      she got me a present\\t  0\n",
              "4  ha ha ha it was so funny\\t  2"
            ]
          },
          "execution_count": 23,
          "metadata": {},
          "output_type": "execute_result"
        }
      ],
      "source": [
        "test_data=pd.read_csv('/content/drive/MyDrive/emoji/test_emoji.csv', header=None)\n",
        "test_data.head()"
      ]
    },
    {
      "cell_type": "code",
      "execution_count": null,
      "metadata": {
        "colab": {
          "background_save": true
        },
        "id": "8jLHbPcsiXDS",
        "outputId": "1e5e4772-ebfe-4c8b-bedf-8ab61f601551"
      },
      "outputs": [
        {
          "data": {
            "text/html": [
              "\n",
              "  <div id=\"df-87c29dab-b958-4d49-a95f-84b6300c4f72\">\n",
              "    <div class=\"colab-df-container\">\n",
              "      <div>\n",
              "<style scoped>\n",
              "    .dataframe tbody tr th:only-of-type {\n",
              "        vertical-align: middle;\n",
              "    }\n",
              "\n",
              "    .dataframe tbody tr th {\n",
              "        vertical-align: top;\n",
              "    }\n",
              "\n",
              "    .dataframe thead th {\n",
              "        text-align: right;\n",
              "    }\n",
              "</style>\n",
              "<table border=\"1\" class=\"dataframe\">\n",
              "  <thead>\n",
              "    <tr style=\"text-align: right;\">\n",
              "      <th></th>\n",
              "      <th>0</th>\n",
              "      <th>1</th>\n",
              "    </tr>\n",
              "  </thead>\n",
              "  <tbody>\n",
              "    <tr>\n",
              "      <th>0</th>\n",
              "      <td>I want to eat</td>\n",
              "      <td>4</td>\n",
              "    </tr>\n",
              "    <tr>\n",
              "      <th>1</th>\n",
              "      <td>he did not answer</td>\n",
              "      <td>3</td>\n",
              "    </tr>\n",
              "    <tr>\n",
              "      <th>2</th>\n",
              "      <td>he got a raise</td>\n",
              "      <td>2</td>\n",
              "    </tr>\n",
              "    <tr>\n",
              "      <th>3</th>\n",
              "      <td>she got me a present</td>\n",
              "      <td>0</td>\n",
              "    </tr>\n",
              "    <tr>\n",
              "      <th>4</th>\n",
              "      <td>ha ha ha it was so funny</td>\n",
              "      <td>2</td>\n",
              "    </tr>\n",
              "  </tbody>\n",
              "</table>\n",
              "</div>\n",
              "      <button class=\"colab-df-convert\" onclick=\"convertToInteractive('df-87c29dab-b958-4d49-a95f-84b6300c4f72')\"\n",
              "              title=\"Convert this dataframe to an interactive table.\"\n",
              "              style=\"display:none;\">\n",
              "        \n",
              "  <svg xmlns=\"http://www.w3.org/2000/svg\" height=\"24px\"viewBox=\"0 0 24 24\"\n",
              "       width=\"24px\">\n",
              "    <path d=\"M0 0h24v24H0V0z\" fill=\"none\"/>\n",
              "    <path d=\"M18.56 5.44l.94 2.06.94-2.06 2.06-.94-2.06-.94-.94-2.06-.94 2.06-2.06.94zm-11 1L8.5 8.5l.94-2.06 2.06-.94-2.06-.94L8.5 2.5l-.94 2.06-2.06.94zm10 10l.94 2.06.94-2.06 2.06-.94-2.06-.94-.94-2.06-.94 2.06-2.06.94z\"/><path d=\"M17.41 7.96l-1.37-1.37c-.4-.4-.92-.59-1.43-.59-.52 0-1.04.2-1.43.59L10.3 9.45l-7.72 7.72c-.78.78-.78 2.05 0 2.83L4 21.41c.39.39.9.59 1.41.59.51 0 1.02-.2 1.41-.59l7.78-7.78 2.81-2.81c.8-.78.8-2.07 0-2.86zM5.41 20L4 18.59l7.72-7.72 1.47 1.35L5.41 20z\"/>\n",
              "  </svg>\n",
              "      </button>\n",
              "      \n",
              "  <style>\n",
              "    .colab-df-container {\n",
              "      display:flex;\n",
              "      flex-wrap:wrap;\n",
              "      gap: 12px;\n",
              "    }\n",
              "\n",
              "    .colab-df-convert {\n",
              "      background-color: #E8F0FE;\n",
              "      border: none;\n",
              "      border-radius: 50%;\n",
              "      cursor: pointer;\n",
              "      display: none;\n",
              "      fill: #1967D2;\n",
              "      height: 32px;\n",
              "      padding: 0 0 0 0;\n",
              "      width: 32px;\n",
              "    }\n",
              "\n",
              "    .colab-df-convert:hover {\n",
              "      background-color: #E2EBFA;\n",
              "      box-shadow: 0px 1px 2px rgba(60, 64, 67, 0.3), 0px 1px 3px 1px rgba(60, 64, 67, 0.15);\n",
              "      fill: #174EA6;\n",
              "    }\n",
              "\n",
              "    [theme=dark] .colab-df-convert {\n",
              "      background-color: #3B4455;\n",
              "      fill: #D2E3FC;\n",
              "    }\n",
              "\n",
              "    [theme=dark] .colab-df-convert:hover {\n",
              "      background-color: #434B5C;\n",
              "      box-shadow: 0px 1px 3px 1px rgba(0, 0, 0, 0.15);\n",
              "      filter: drop-shadow(0px 1px 2px rgba(0, 0, 0, 0.3));\n",
              "      fill: #FFFFFF;\n",
              "    }\n",
              "  </style>\n",
              "\n",
              "      <script>\n",
              "        const buttonEl =\n",
              "          document.querySelector('#df-87c29dab-b958-4d49-a95f-84b6300c4f72 button.colab-df-convert');\n",
              "        buttonEl.style.display =\n",
              "          google.colab.kernel.accessAllowed ? 'block' : 'none';\n",
              "\n",
              "        async function convertToInteractive(key) {\n",
              "          const element = document.querySelector('#df-87c29dab-b958-4d49-a95f-84b6300c4f72');\n",
              "          const dataTable =\n",
              "            await google.colab.kernel.invokeFunction('convertToInteractive',\n",
              "                                                     [key], {});\n",
              "          if (!dataTable) return;\n",
              "\n",
              "          const docLinkHtml = 'Like what you see? Visit the ' +\n",
              "            '<a target=\"_blank\" href=https://colab.research.google.com/notebooks/data_table.ipynb>data table notebook</a>'\n",
              "            + ' to learn more about interactive tables.';\n",
              "          element.innerHTML = '';\n",
              "          dataTable['output_type'] = 'display_data';\n",
              "          await google.colab.output.renderOutput(dataTable, element);\n",
              "          const docLink = document.createElement('div');\n",
              "          docLink.innerHTML = docLinkHtml;\n",
              "          element.appendChild(docLink);\n",
              "        }\n",
              "      </script>\n",
              "    </div>\n",
              "  </div>\n",
              "  "
            ],
            "text/plain": [
              "                          0  1\n",
              "0             I want to eat  4\n",
              "1         he did not answer  3\n",
              "2            he got a raise  2\n",
              "3      she got me a present  0\n",
              "4  ha ha ha it was so funny  2"
            ]
          },
          "execution_count": 24,
          "metadata": {},
          "output_type": "execute_result"
        }
      ],
      "source": [
        "test_data[0]=test_data[0].apply(lambda x:x[:-1])\n",
        "test_data.head()"
      ]
    },
    {
      "cell_type": "code",
      "execution_count": null,
      "metadata": {
        "colab": {
          "background_save": true
        },
        "id": "g_jhP9xUxeRa"
      },
      "outputs": [],
      "source": [
        "x= test_data[0].values\n",
        "y= test_data[1].values"
      ]
    },
    {
      "cell_type": "code",
      "execution_count": null,
      "metadata": {
        "colab": {
          "background_save": true
        },
        "id": "0NqG-_brxmHD"
      },
      "outputs": [],
      "source": [
        "tokenizer1 = Tokenizer()\n",
        "tokenizer1.fit_on_texts(X)\n",
        "word2index1 = tokenizer.word_index"
      ]
    },
    {
      "cell_type": "code",
      "execution_count": null,
      "metadata": {
        "colab": {
          "background_save": true
        },
        "id": "tFbFQNlsxmPj"
      },
      "outputs": [],
      "source": [
        "xtokens = tokenizer.texts_to_sequences(x)"
      ]
    },
    {
      "cell_type": "code",
      "execution_count": null,
      "metadata": {
        "colab": {
          "background_save": true
        },
        "id": "Os51JkxRxmRI",
        "outputId": "2f8fb37f-27f2-45c9-989a-6b5b5f1b7ccd"
      },
      "outputs": [
        {
          "name": "stdout",
          "output_type": "stream",
          "text": [
            "0\n"
          ]
        }
      ],
      "source": [
        "def get_maxlen(train_data):\n",
        "    maxlen = 0\n",
        "    for sent in train_data:\n",
        "        maxlen1 = max(maxlen, len(sent))\n",
        "    return maxlen\n",
        "\n",
        "maxlen1 = get_maxlen(Xtokens)\n",
        "print(maxlen1)"
      ]
    },
    {
      "cell_type": "code",
      "execution_count": null,
      "metadata": {
        "colab": {
          "background_save": true
        },
        "id": "4SQt-mziyfhs"
      },
      "outputs": [],
      "source": [
        "xtest = pad_sequences(Xtokens, maxlen = maxlen,  padding = 'post', truncating = 'post')"
      ]
    },
    {
      "cell_type": "code",
      "execution_count": null,
      "metadata": {
        "colab": {
          "background_save": true
        },
        "id": "Xck3hU-PynkE"
      },
      "outputs": [],
      "source": [
        "ytest=to_categorical(y)"
      ]
    },
    {
      "cell_type": "code",
      "execution_count": null,
      "metadata": {
        "colab": {
          "background_save": true
        },
        "id": "TS8Awof-A1EH",
        "outputId": "4a330270-2273-4eac-ad71-db8c71d2121f"
      },
      "outputs": [
        {
          "name": "stdout",
          "output_type": "stream",
          "text": [
            "1/1 [==============================] - 1s 926ms/step\n",
            "i feel bad 😞\n",
            "food 🍽️\n",
            "i love you ❤️\n",
            "stop shouting 😞\n",
            "i have a ball ⚾\n"
          ]
        }
      ],
      "source": [
        "test = [\"i feel bad\",\"food\",\"i love you\",\"stop shouting\",\"i have a ball\"]\n",
        "\n",
        "test_seq = tokenizer.texts_to_sequences(test)\n",
        "Xtest = pad_sequences(test_seq, maxlen = maxlen, padding = 'post', truncating = 'post')\n",
        "\n",
        "y_pred = model.predict(Xtest)\n",
        "y_pred = np.argmax(y_pred, axis = 1)\n",
        "\n",
        "for i in range(len(test)):\n",
        "    print(test[i], label_to_emoji(y_pred[i]))"
      ]
    }
  ],
  "metadata": {
    "colab": {
      "provenance": []
    },
    "kernelspec": {
      "display_name": "Python 3",
      "name": "python3"
    },
    "language_info": {
      "name": "python"
    }
  },
  "nbformat": 4,
  "nbformat_minor": 0
}